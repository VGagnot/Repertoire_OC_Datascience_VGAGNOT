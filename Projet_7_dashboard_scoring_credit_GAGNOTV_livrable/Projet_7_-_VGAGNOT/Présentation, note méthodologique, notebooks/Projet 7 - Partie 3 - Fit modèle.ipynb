{
 "cells": [
  {
   "cell_type": "markdown",
   "metadata": {
    "id": "crkeTN2b9cqG"
   },
   "source": [
    "#Projet 7 - Implémentez un modèle de scoring\n",
    "##Partie 3: Fit du modèle choisi\n",
    "Dans cette partie, nous fittons le modèle sélectionné dans la partie précédente sur le jeu de données, et nous choisissons le seuil de décision à employer par la suite."
   ]
  },
  {
   "cell_type": "code",
   "execution_count": 1,
   "metadata": {
    "executionInfo": {
     "elapsed": 1351,
     "status": "ok",
     "timestamp": 1625038135062,
     "user": {
      "displayName": "Vincent Gagnot",
      "photoUrl": "",
      "userId": "15715800495346704284"
     },
     "user_tz": -120
    },
    "id": "dfryZa2cA8by"
   },
   "outputs": [],
   "source": [
    "import numpy as np\n",
    "import pandas as pd\n",
    "from sklearn import metrics, model_selection\n",
    "from lightgbm import LGBMClassifier\n",
    "from sklearn.metrics import roc_auc_score, roc_curve, accuracy_score\n",
    "import matplotlib.pyplot as plt\n",
    "import pickle\n",
    "\n",
    "from google.colab import files\n",
    "from google.colab import drive\n",
    "import os\n",
    "from pydrive.auth import GoogleAuth\n",
    "from pydrive.drive import GoogleDrive\n",
    "from google.colab import auth\n",
    "from oauth2client.client import GoogleCredentials"
   ]
  },
  {
   "cell_type": "markdown",
   "metadata": {
    "id": "NT4NrRNI-uvy"
   },
   "source": [
    "Imports des packages et des données préparées."
   ]
  },
  {
   "cell_type": "code",
   "execution_count": 2,
   "metadata": {
    "executionInfo": {
     "elapsed": 202026,
     "status": "ok",
     "timestamp": 1625038337084,
     "user": {
      "displayName": "Vincent Gagnot",
      "photoUrl": "",
      "userId": "15715800495346704284"
     },
     "user_tz": -120
    },
    "id": "EcrHOeoXBL79"
   },
   "outputs": [],
   "source": [
    "auth.authenticate_user()\n",
    "gauth = GoogleAuth()\n",
    "gauth.credentials = GoogleCredentials.get_application_default()\n",
    "drive = GoogleDrive(gauth)"
   ]
  },
  {
   "cell_type": "code",
   "execution_count": 3,
   "metadata": {
    "executionInfo": {
     "elapsed": 298,
     "status": "ok",
     "timestamp": 1625038340478,
     "user": {
      "displayName": "Vincent Gagnot",
      "photoUrl": "",
      "userId": "15715800495346704284"
     },
     "user_tz": -120
    },
    "id": "yEc6HFtmBO7E"
   },
   "outputs": [],
   "source": [
    "fichiers = {'trainX': '126EsHRUCAZxvGI3cI-6hVVdMhzorLMyM',\n",
    "            'testX': '1ub6d5sgJF-20lqWoXXlt4yjU-bCQs4Eq',\n",
    "            'trainy': '1-FhtadsMTEZ_IA9G-aZEjGevdcU_TmCJ',\n",
    "            'testy': '1-3ewg1u6YlrEagab9FFVqtlKrz2eD7af'}"
   ]
  },
  {
   "cell_type": "code",
   "execution_count": 4,
   "metadata": {
    "executionInfo": {
     "elapsed": 218176,
     "status": "ok",
     "timestamp": 1625038559037,
     "user": {
      "displayName": "Vincent Gagnot",
      "photoUrl": "",
      "userId": "15715800495346704284"
     },
     "user_tz": -120
    },
    "id": "l9HXAlXEJzEK"
   },
   "outputs": [],
   "source": [
    "for (i, (k, v)) in enumerate(fichiers.items()):\n",
    "    downloaded = drive.CreateFile({'id':v})   # replace the id with id of file you want to access\n",
    "    downloaded.GetContentFile(k + '.csv')        # replace the file name with your file"
   ]
  },
  {
   "cell_type": "code",
   "execution_count": 5,
   "metadata": {
    "executionInfo": {
     "elapsed": 68467,
     "status": "ok",
     "timestamp": 1625038627496,
     "user": {
      "displayName": "Vincent Gagnot",
      "photoUrl": "",
      "userId": "15715800495346704284"
     },
     "user_tz": -120
    },
    "id": "4Z-xxVRDJ45S"
   },
   "outputs": [],
   "source": [
    "trainX = pd.read_csv('trainX.csv')\n",
    "trainX = trainX.set_index(trainX.columns[0])\n",
    "testX = pd.read_csv('testX.csv')\n",
    "testX = testX.set_index(testX.columns[0])\n",
    "trainy = pd.read_csv('trainy.csv')\n",
    "trainy = trainy.set_index(trainy.columns[0])\n",
    "testy = pd.read_csv('testy.csv')\n",
    "testy = testy.set_index(testy.columns[0])"
   ]
  },
  {
   "cell_type": "code",
   "execution_count": 6,
   "metadata": {
    "executionInfo": {
     "elapsed": 20,
     "status": "ok",
     "timestamp": 1625038627501,
     "user": {
      "displayName": "Vincent Gagnot",
      "photoUrl": "",
      "userId": "15715800495346704284"
     },
     "user_tz": -120
    },
    "id": "Py-99rGK7PbH"
   },
   "outputs": [],
   "source": [
    "folds = model_selection.KFold(n_splits=5, shuffle=True, random_state=166)"
   ]
  },
  {
   "cell_type": "code",
   "execution_count": 7,
   "metadata": {
    "executionInfo": {
     "elapsed": 18,
     "status": "ok",
     "timestamp": 1625038627502,
     "user": {
      "displayName": "Vincent Gagnot",
      "photoUrl": "",
      "userId": "15715800495346704284"
     },
     "user_tz": -120
    },
    "id": "Gzmkr00BNIIr"
   },
   "outputs": [],
   "source": [
    "liste_features = [f for f in trainX.columns if f not in ['TARGET',\n",
    "                                                        'SK_ID_CURR',\n",
    "                                                        'SK_ID_BUREAU',\n",
    "                                                        'SK_ID_PREV',\n",
    "                                                        'index',\n",
    "                                                        'REFUSED_APP_CREDIT_PERC_MAX',\n",
    "                                                        'REFUSED_APP_CREDIT_PERC_MAX',\n",
    "                                                        'PREV_APP_CREDIT_PERC_MAX',\n",
    "                                                        'PREV_APP_CREDIT_PERC_MEAN',\n",
    "                                                        'REFUSED_APP_CREDIT_PERC_MEAN',\n",
    "                                                        'INSTAL_PAYMENT_PERC_MAX',\n",
    "                                                        'INSTAL_PAYMENT_PERC_MEAN',\n",
    "                                                        'INSTAL_PAYMENT_PERC_SUM'\n",
    "                                                        ]]"
   ]
  },
  {
   "cell_type": "markdown",
   "metadata": {
    "id": "kQ8-AkHIarpg"
   },
   "source": [
    "## Fit modèle\n",
    "\n",
    "Dans cette partie, je fitte le modèle sélectionné précédemment à mon jeu de données, et j'évalue sa justesse."
   ]
  },
  {
   "cell_type": "code",
   "execution_count": 8,
   "metadata": {
    "executionInfo": {
     "elapsed": 17,
     "status": "ok",
     "timestamp": 1625038627502,
     "user": {
      "displayName": "Vincent Gagnot",
      "photoUrl": "",
      "userId": "15715800495346704284"
     },
     "user_tz": -120
    },
    "id": "UlNbL5fRmbKq"
   },
   "outputs": [],
   "source": [
    "# Réference (no skill prediction)\n",
    "ns_probs = [1 for _ in range(len(testy))]"
   ]
  },
  {
   "cell_type": "code",
   "execution_count": 9,
   "metadata": {
    "colab": {
     "base_uri": "https://localhost:8080/"
    },
    "executionInfo": {
     "elapsed": 415189,
     "status": "ok",
     "timestamp": 1625039050729,
     "user": {
      "displayName": "Vincent Gagnot",
      "photoUrl": "",
      "userId": "15715800495346704284"
     },
     "user_tz": -120
    },
    "id": "4LC1cPLFAiq8",
    "outputId": "9cbb964b-68e2-4931-af1c-92334e426f65"
   },
   "outputs": [
    {
     "name": "stderr",
     "output_type": "stream",
     "text": [
      "/usr/local/lib/python3.7/dist-packages/sklearn/preprocessing/_label.py:235: DataConversionWarning: A column-vector y was passed when a 1d array was expected. Please change the shape of y to (n_samples, ), for example using ravel().\n",
      "  y = column_or_1d(y, warn=True)\n",
      "/usr/local/lib/python3.7/dist-packages/sklearn/preprocessing/_label.py:268: DataConversionWarning: A column-vector y was passed when a 1d array was expected. Please change the shape of y to (n_samples, ), for example using ravel().\n",
      "  y = column_or_1d(y, warn=True)\n"
     ]
    },
    {
     "data": {
      "text/plain": [
       "LGBMClassifier(boosting_type='dart', class_weight='balanced',\n",
       "               colsample_bytree=1.0, importance_type='split',\n",
       "               learning_rate=0.09, max_depth=-1, min_child_samples=20,\n",
       "               min_child_weight=0.001, min_split_gain=0.0, n_estimators=550,\n",
       "               n_jobs=-1, num_leaves=16, objective=None, random_state=None,\n",
       "               reg_alpha=0.0, reg_lambda=0.0, silent=True, subsample=1.0,\n",
       "               subsample_for_bin=200000, subsample_freq=0)"
      ]
     },
     "execution_count": 9,
     "metadata": {
      "tags": []
     },
     "output_type": "execute_result"
    }
   ],
   "source": [
    "# fit du modèle\n",
    "lgbm2 = LGBMClassifier(\n",
    "                learning_rate = 0.09,\n",
    "                n_estimators = 550,\n",
    "                boosting_type = 'dart',\n",
    "                num_leaves = 16,\n",
    "                class_weight = 'balanced'\n",
    "                )\n",
    "lgbm2.fit(np.nan_to_num(trainX), trainy)"
   ]
  },
  {
   "cell_type": "code",
   "execution_count": 10,
   "metadata": {
    "colab": {
     "base_uri": "https://localhost:8080/",
     "height": 313
    },
    "executionInfo": {
     "elapsed": 12929,
     "status": "ok",
     "timestamp": 1625039063654,
     "user": {
      "displayName": "Vincent Gagnot",
      "photoUrl": "",
      "userId": "15715800495346704284"
     },
     "user_tz": -120
    },
    "id": "sJUQBYvIib2f",
    "outputId": "c92254d8-bb35-42c4-d3d6-6fc0a6303090"
   },
   "outputs": [
    {
     "name": "stdout",
     "output_type": "stream",
     "text": [
      "No Skill: ROC AUC=0.500\n",
      "LGBM: ROC AUC=0.784\n"
     ]
    },
    {
     "data": {
      "image/png": "[encoded data removed]",
      "text/plain": [
       "<Figure size 432x288 with 1 Axes>"
      ]
     },
     "metadata": {
      "needs_background": "light",
      "tags": []
     },
     "output_type": "display_data"
    }
   ],
   "source": [
    "# Evaluation du modèle\n",
    "\n",
    "# Predict proba \n",
    "lgbm2_probs = lgbm2.predict_proba(np.nan_to_num(testX))\n",
    "\n",
    "# Je ne garde que la prédiction positive (défaut de paiement)\n",
    "probas = lgbm2_probs.copy()\n",
    "lgbm2_probs = lgbm2_probs[:, 1]\n",
    "lgbm2_pred = lgbm2.predict(np.nan_to_num(testX))\n",
    "\n",
    "# Je calcule le score AUC\n",
    "ns_auc = roc_auc_score(testy, ns_probs)\n",
    "lgbm2_auc = roc_auc_score(testy, lgbm2_probs)\n",
    "lgbm2_acc = accuracy_score(testy, lgbm2_pred)\n",
    "print('No Skill: ROC AUC=%.3f' % (ns_auc))\n",
    "print('LGBM: ROC AUC=%.3f' % (lgbm2_auc))\n",
    "\n",
    "# Je calcule et affiche les courbes ROC\n",
    "ns_fpr, ns_tpr, _ = roc_curve(testy, ns_probs)\n",
    "lgbm2_fpr, lgbm2_tpr, _ = roc_curve(testy, lgbm2_probs)\n",
    "plt.plot(ns_fpr, ns_tpr, linestyle='--', label='No Skill')\n",
    "plt.plot(lgbm2_fpr, lgbm2_tpr, marker='.', label='LGBM')\n",
    "plt.xlabel('False Positive Rate')\n",
    "plt.ylabel('True Positive Rate')\n",
    "plt.legend()\n",
    "plt.show()"
   ]
  },
  {
   "cell_type": "markdown",
   "metadata": {
    "id": "IwVNUMH8avGx"
   },
   "source": [
    "## Recherche du seuil optimal\n",
    "Une problématique majeure est le seuil de décision: à partir de quelle note (predict_proba) faut-il accorder le prêt?\n",
    "Cette décision se fait en comparant, pour toute une liste de seuils possibles, la perte possible au gain possible.\n"
   ]
  },
  {
   "cell_type": "markdown",
   "metadata": {
    "id": "4X2n4JpQEv9R"
   },
   "source": [
    "Pour cette estimation, je considère un rapport 1/10 entre le gain possible et la perte possible pour un candidat donné."
   ]
  },
  {
   "cell_type": "code",
   "execution_count": null,
   "metadata": {
    "id": "oXRNgKG8TIlp"
   },
   "outputs": [],
   "source": [
    "seuils = []\n",
    "coût = []\n",
    "y_pred = lgbm2.predict_proba(trainX)[:,1]\n",
    "for s in range(0, 1000, 1):\n",
    "  y_pred_s = (y_pred >= s/1000).astype(bool)\n",
    "  mat = metrics.confusion_matrix(y_pred_s, trainy)\n",
    "  seuils.append(s/1000)\n",
    "  coût.append(10*mat[0,1] + mat[1,0])"
   ]
  },
  {
   "cell_type": "code",
   "execution_count": null,
   "metadata": {
    "colab": {
     "base_uri": "https://localhost:8080/",
     "height": 282
    },
    "executionInfo": {
     "elapsed": 29,
     "status": "ok",
     "timestamp": 1624797909476,
     "user": {
      "displayName": "Vincent Gagnot",
      "photoUrl": "",
      "userId": "15715800495346704284"
     },
     "user_tz": -120
    },
    "id": "aMNP1VpPV6Fm",
    "outputId": "cc0440bd-6085-48f5-f17f-512dedfa9d9e"
   },
   "outputs": [
    {
     "data": {
      "text/plain": [
       "[<matplotlib.lines.Line2D at 0x7f17f565b3d0>]"
      ]
     },
     "execution_count": 20,
     "metadata": {
      "tags": []
     },
     "output_type": "execute_result"
    },
    {
     "data": {
      "image/png": "[encoded data removed]",
      "text/plain": [
       "<Figure size 432x288 with 1 Axes>"
      ]
     },
     "metadata": {
      "needs_background": "light",
      "tags": []
     },
     "output_type": "display_data"
    }
   ],
   "source": [
    "plt.plot(seuils, coût, linestyle='--', label='Coût = f(seuil')"
   ]
  },
  {
   "cell_type": "markdown",
   "metadata": {
    "id": "0Hlce0-JFXLu"
   },
   "source": [
    "J'obtiens alors le seuil optimal (seuil de choix où le gain sera maximal) suivant:"
   ]
  },
  {
   "cell_type": "code",
   "execution_count": null,
   "metadata": {
    "colab": {
     "base_uri": "https://localhost:8080/"
    },
    "executionInfo": {
     "elapsed": 19,
     "status": "ok",
     "timestamp": 1624797909772,
     "user": {
      "displayName": "Vincent Gagnot",
      "photoUrl": "",
      "userId": "15715800495346704284"
     },
     "user_tz": -120
    },
    "id": "y7dTA4LMgdOi",
    "outputId": "1db51d97-4e99-450f-d5c6-9563ded8ef37"
   },
   "outputs": [
    {
     "name": "stdout",
     "output_type": "stream",
     "text": [
      "Seuil optimal: 0.505\n"
     ]
    }
   ],
   "source": [
    "seuil = seuils[np.where(coût == min(coût))[0][0]]\n",
    "print(\"Seuil optimal:\", str(seuil))"
   ]
  },
  {
   "cell_type": "markdown",
   "metadata": {
    "id": "XdSi9-7eFg_B"
   },
   "source": [
    "Par curiosité, je peux faire la même expérience avec un seuil gain/perte de 1/5."
   ]
  },
  {
   "cell_type": "code",
   "execution_count": null,
   "metadata": {
    "id": "18lvb52ZJhCY"
   },
   "outputs": [],
   "source": [
    "Echelle_seuil = [0, min(0.6*seuil,1), min(0.9*seuil,1), min(seuil,1),min(1.2*seuil,1), 1]"
   ]
  },
  {
   "cell_type": "code",
   "execution_count": null,
   "metadata": {
    "id": "scEeQZniTsz8"
   },
   "outputs": [],
   "source": [
    "seuils2 = []\n",
    "coût = []\n",
    "y_pred = lgbm2.predict_proba(trainX)[:,1]\n",
    "for s in range(0, 1000, 1):\n",
    "  y_pred_s = (y_pred >= s/1000).astype(bool)\n",
    "  mat = metrics.confusion_matrix(y_pred_s, trainy)\n",
    "  seuils2.append(s/1000)\n",
    "  coût.append(5*mat[0,1] + mat[1,0])"
   ]
  },
  {
   "cell_type": "code",
   "execution_count": null,
   "metadata": {
    "colab": {
     "base_uri": "https://localhost:8080/",
     "height": 282
    },
    "executionInfo": {
     "elapsed": 472,
     "status": "ok",
     "timestamp": 1624798322144,
     "user": {
      "displayName": "Vincent Gagnot",
      "photoUrl": "",
      "userId": "15715800495346704284"
     },
     "user_tz": -120
    },
    "id": "rViLlXgqTs0A",
    "outputId": "aaf84c18-7cb5-4cb6-ec0b-0cc15812806a"
   },
   "outputs": [
    {
     "data": {
      "text/plain": [
       "[<matplotlib.lines.Line2D at 0x7f17f5b8cf90>]"
      ]
     },
     "execution_count": 24,
     "metadata": {
      "tags": []
     },
     "output_type": "execute_result"
    },
    {
     "data": {
      "image/png": "[encoded data removed]",
      "text/plain": [
       "<Figure size 432x288 with 1 Axes>"
      ]
     },
     "metadata": {
      "needs_background": "light",
      "tags": []
     },
     "output_type": "display_data"
    }
   ],
   "source": [
    "plt.plot(seuils2, coût, linestyle='--', label='Coût = f(seuil')"
   ]
  },
  {
   "cell_type": "code",
   "execution_count": null,
   "metadata": {
    "colab": {
     "base_uri": "https://localhost:8080/"
    },
    "executionInfo": {
     "elapsed": 7,
     "status": "ok",
     "timestamp": 1624798322145,
     "user": {
      "displayName": "Vincent Gagnot",
      "photoUrl": "",
      "userId": "15715800495346704284"
     },
     "user_tz": -120
    },
    "id": "F3XAfJtvTs0A",
    "outputId": "e8298a88-a895-4e37-f2bc-5b21c6b581ee"
   },
   "outputs": [
    {
     "name": "stdout",
     "output_type": "stream",
     "text": [
      "Seuil optimal: 0.601\n"
     ]
    }
   ],
   "source": [
    "seuil2 = seuils2[np.where(coût == min(coût))[0][0]]\n",
    "print(\"Seuil optimal:\", str(seuil2))"
   ]
  },
  {
   "cell_type": "markdown",
   "metadata": {
    "id": "AvpIEVPEi9nb"
   },
   "source": [
    "## Export du modèle\n",
    "J'exporte le modèle fitté pour futur usage."
   ]
  },
  {
   "cell_type": "code",
   "execution_count": null,
   "metadata": {
    "colab": {
     "base_uri": "https://localhost:8080/"
    },
    "executionInfo": {
     "elapsed": 189,
     "status": "ok",
     "timestamp": 1624802897758,
     "user": {
      "displayName": "Vincent Gagnot",
      "photoUrl": "",
      "userId": "15715800495346704284"
     },
     "user_tz": -120
    },
    "id": "wJ74AT_nIRDM",
    "outputId": "c72b6786-1926-49c5-80ca-a2b39e0b7808"
   },
   "outputs": [
    {
     "name": "stdout",
     "output_type": "stream",
     "text": [
      "Drive already mounted at /content/drive; to attempt to forcibly remount, call drive.mount(\"/content/drive\", force_remount=True).\n"
     ]
    }
   ],
   "source": [
    "from google.colab import drive\n",
    "drive.mount('/content/drive')"
   ]
  },
  {
   "cell_type": "code",
   "execution_count": null,
   "metadata": {
    "colab": {
     "base_uri": "https://localhost:8080/"
    },
    "executionInfo": {
     "elapsed": 375,
     "status": "ok",
     "timestamp": 1624803140007,
     "user": {
      "displayName": "Vincent Gagnot",
      "photoUrl": "",
      "userId": "15715800495346704284"
     },
     "user_tz": -120
    },
    "id": "7iLkV8tuiow0",
    "outputId": "32b55526-6e08-479b-bbd1-3b9d47cf87d0"
   },
   "outputs": [
    {
     "data": {
      "text/plain": [
       "lightgbm.sklearn.LGBMClassifier"
      ]
     },
     "execution_count": 36,
     "metadata": {
      "tags": []
     },
     "output_type": "execute_result"
    }
   ],
   "source": [
    "type(lgbm2)"
   ]
  },
  {
   "cell_type": "code",
   "execution_count": null,
   "metadata": {
    "colab": {
     "base_uri": "https://localhost:8080/",
     "height": 195
    },
    "executionInfo": {
     "elapsed": 510,
     "status": "error",
     "timestamp": 1624802976065,
     "user": {
      "displayName": "Vincent Gagnot",
      "photoUrl": "",
      "userId": "15715800495346704284"
     },
     "user_tz": -120
    },
    "id": "zSuqyr5thI4O",
    "outputId": "588e13dc-bb66-4d7b-a0e5-312a583ea3ad"
   },
   "outputs": [
    {
     "ename": "NameError",
     "evalue": "ignored",
     "output_type": "error",
     "traceback": [
      "\u001b[0;31m---------------------------------------------------------------------------\u001b[0m",
      "\u001b[0;31mNameError\u001b[0m                                 Traceback (most recent call last)",
      "\u001b[0;32m<ipython-input-34-dedc09b473bc>\u001b[0m in \u001b[0;36m<module>\u001b[0;34m()\u001b[0m\n\u001b[1;32m      1\u001b[0m \u001b[0mfilename\u001b[0m \u001b[0;34m=\u001b[0m \u001b[0;34m'classification_credit_2.sav'\u001b[0m\u001b[0;34m\u001b[0m\u001b[0;34m\u001b[0m\u001b[0m\n\u001b[1;32m      2\u001b[0m \u001b[0mout\u001b[0m \u001b[0;34m=\u001b[0m \u001b[0mopen\u001b[0m\u001b[0;34m(\u001b[0m\u001b[0mos\u001b[0m\u001b[0;34m.\u001b[0m\u001b[0mpath\u001b[0m\u001b[0;34m.\u001b[0m\u001b[0mjoin\u001b[0m\u001b[0;34m(\u001b[0m\u001b[0;34m\"/content/drive/My Drive/Colab_Notebooks\"\u001b[0m\u001b[0;34m,\u001b[0m \u001b[0mfilename\u001b[0m\u001b[0;34m)\u001b[0m\u001b[0;34m,\u001b[0m \u001b[0;34m'wb'\u001b[0m\u001b[0;34m)\u001b[0m\u001b[0;34m\u001b[0m\u001b[0;34m\u001b[0m\u001b[0m\n\u001b[0;32m----> 3\u001b[0;31m \u001b[0mjoblib\u001b[0m\u001b[0;34m.\u001b[0m\u001b[0mdump\u001b[0m\u001b[0;34m(\u001b[0m\u001b[0mlgbm2\u001b[0m\u001b[0;34m,\u001b[0m \u001b[0mout\u001b[0m\u001b[0;34m)\u001b[0m\u001b[0;34m\u001b[0m\u001b[0;34m\u001b[0m\u001b[0m\n\u001b[0m",
      "\u001b[0;31mNameError\u001b[0m: name 'joblib' is not defined"
     ]
    }
   ],
   "source": [
    "filename = 'classification_credit_2.sav'\n",
    "out = open(os.path.join(\"/content/drive/My Drive/Colab_Notebooks\", filename), 'wb')\n",
    "joblib.dump(lgbm2, out)"
   ]
  },
  {
   "cell_type": "code",
   "execution_count": null,
   "metadata": {
    "colab": {
     "base_uri": "https://localhost:8080/"
    },
    "executionInfo": {
     "elapsed": 3,
     "status": "ok",
     "timestamp": 1622667901152,
     "user": {
      "displayName": "Vincent Gagnot",
      "photoUrl": "",
      "userId": "15715800495346704284"
     },
     "user_tz": -120
    },
    "id": "HCs0P94rFWwL",
    "outputId": "1ca226c3-993e-41c8-9dac-871620f53400"
   },
   "outputs": [
    {
     "data": {
      "text/plain": [
       "LGBMClassifier(boosting_type='dart', class_weight='balanced',\n",
       "               colsample_bytree=1.0, importance_type='split',\n",
       "               learning_rate=0.08, max_depth=-1, min_child_samples=20,\n",
       "               min_child_weight=0.001, min_split_gain=0.0, n_estimators=500,\n",
       "               n_jobs=-1, num_leaves=26, objective=None, random_state=None,\n",
       "               reg_alpha=0.0, reg_lambda=0.0, silent=True, subsample=1.0,\n",
       "               subsample_for_bin=200000, subsample_freq=0)"
      ]
     },
     "execution_count": 20,
     "metadata": {
      "tags": []
     },
     "output_type": "execute_result"
    }
   ],
   "source": [
    "joblib.load('classification_credit_2.sav')"
   ]
  },
  {
   "cell_type": "code",
   "execution_count": null,
   "metadata": {
    "id": "9dPrkef2lBOL"
   },
   "outputs": [],
   "source": []
  }
 ],
 "metadata": {
  "colab": {
   "authorship_tag": "ABX9TyOfwphi2lrpQ+RfkSJkyRhr",
   "mount_file_id": "1bBzdM6GtwKFvqVUF4XwPCNuSBNcxgWrd",
   "name": "Projet 7 - Fit modèle.ipynb",
   "provenance": [
    {
     "file_id": "1bBzdM6GtwKFvqVUF4XwPCNuSBNcxgWrd",
     "timestamp": 1623684629664
    }
   ],
   "toc_visible": true
  },
  "kernelspec": {
   "display_name": "Python 3",
   "language": "python",
   "name": "python3"
  },
  "language_info": {
   "codemirror_mode": {
    "name": "ipython",
    "version": 3
   },
   "file_extension": ".py",
   "mimetype": "text/x-python",
   "name": "python",
   "nbconvert_exporter": "python",
   "pygments_lexer": "ipython3",
   "version": "3.8.5"
  }
 },
 "nbformat": 4,
 "nbformat_minor": 1
}
